{
 "cells": [
  {
   "cell_type": "code",
   "execution_count": 1,
   "metadata": {},
   "outputs": [],
   "source": [
    "#This is code just for the intial J3 demo rollup\n",
    "#In the future, I will need to include geometry validation code\n",
    "\n",
    "\n",
    "#Import the libraries I need\n",
    "import pandas as pd\n",
    "import geopandas as gpd\n",
    "import matplotlib as plt\n",
    "from shapely import wkt\n",
    "from shapely.geometry import Point"
   ]
  },
  {
   "cell_type": "code",
   "execution_count": 2,
   "metadata": {},
   "outputs": [],
   "source": [
    "#Specify the geojson file path to read as a geodataframe\n",
    "SMS = gpd.read_file(r\"C:\\Users\\mjeas\\Desktop\\geojson (1).json\")"
   ]
  },
  {
   "cell_type": "code",
   "execution_count": 3,
   "metadata": {},
   "outputs": [],
   "source": [
    "#Pull out the point features from the main dataset\n",
    "SMS_Points= SMS.loc[SMS['shapeType'] == 'Point']"
   ]
  },
  {
   "cell_type": "code",
   "execution_count": 4,
   "metadata": {},
   "outputs": [],
   "source": [
    "#Pull out the line features from the main dataset\n",
    "SMS_Lines= SMS.loc[SMS['shapeType'] == 'LINE']"
   ]
  },
  {
   "cell_type": "code",
   "execution_count": 5,
   "metadata": {},
   "outputs": [],
   "source": [
    "#Pull out the polygons and circle features from the main dataset\n",
    "SMS_Polygons= SMS.loc[SMS['shapeType'] == 'POLYGON']\n",
    "SMS_Circle = SMS.loc[SMS['shapeType'] == 'CIRCLE']"
   ]
  },
  {
   "cell_type": "code",
   "execution_count": 6,
   "metadata": {},
   "outputs": [
    {
     "name": "stderr",
     "output_type": "stream",
     "text": [
      "C:\\Users\\mjeas\\anaconda3\\envs\\geopandas_env\\lib\\site-packages\\geopandas\\geodataframe.py:853: SettingWithCopyWarning: \n",
      "A value is trying to be set on a copy of a slice from a DataFrame.\n",
      "Try using .loc[row_indexer,col_indexer] = value instead\n",
      "\n",
      "See the caveats in the documentation: https://pandas.pydata.org/pandas-docs/stable/user_guide/indexing.html#returning-a-view-versus-a-copy\n",
      "  super(GeoDataFrame, self).__setitem__(key, value)\n"
     ]
    }
   ],
   "source": [
    "#Data Cleaning\n",
    "#slice the string to get rid of the brackets\n",
    "SMS_Circle['center']= SMS_Circle['center'].str.slice(start=1, stop=-1)\n",
    "\n",
    "#iterate over objects in 'center' column and add \"POINT\"\n",
    "def point_format(x):\n",
    "    return 'POINT' + '('+ x + ')'\n",
    "SMS_Circle['center'] = SMS_Circle.apply(lambda row: point_format(row['center']), axis=1)\n",
    "\n",
    "#Get rid of comma seperation\n",
    "SMS_Circle['center'] = SMS_Circle['center'].replace(',',' ', regex=True)"
   ]
  },
  {
   "cell_type": "code",
   "execution_count": 7,
   "metadata": {},
   "outputs": [],
   "source": [
    "#Move the geometry format created in the last step to the geometry column and load it\n",
    "SMS_Circle['geometry'] = SMS_Circle['center'].apply(wkt.loads)"
   ]
  },
  {
   "cell_type": "code",
   "execution_count": 8,
   "metadata": {},
   "outputs": [],
   "source": [
    "#Set up inputs for buffer tool\n",
    "sep = '.'\n",
    "SMS_Circle['buff_distance'] = SMS_Circle['radius'].str.split(sep, 1, expand= True)[0]\n",
    "SMS_Circle['buff_distance']= SMS_Circle['buff_distance'].astype(int)"
   ]
  },
  {
   "cell_type": "code",
   "execution_count": 9,
   "metadata": {},
   "outputs": [],
   "source": [
    "#Reproject everything\n",
    "SMS_Circle= SMS_Circle.to_crs(\"EPSG:3857\")\n",
    "SMS_Points= SMS_Points.to_crs(\"EPSG:3857\")\n",
    "SMS_Lines= SMS_Lines.to_crs(\"EPSG:3857\")\n",
    "SMS_Polygons= SMS_Polygons.to_crs(\"EPSG:3857\")\n",
    "\n",
    "#Perform buffer\n",
    "SMS_Circle['geometry2'] = SMS_Circle.geometry.buffer(SMS_Circle['buff_distance'])\n",
    "SMS_Circle = SMS_Circle.set_geometry('geometry2')"
   ]
  },
  {
   "cell_type": "code",
   "execution_count": 10,
   "metadata": {},
   "outputs": [],
   "source": [
    "#delete columns\n",
    "del SMS_Circle['geometry']\n",
    "del SMS_Circle['buff_distance']\n",
    "#del SMS_Circle['center']"
   ]
  },
  {
   "cell_type": "code",
   "execution_count": 12,
   "metadata": {},
   "outputs": [],
   "source": [
    "#rename new geometry field\n",
    "SMS_Circle.rename(columns= {'geometry2':'geometry'}, inplace=True)\n",
    "\n",
    "#resetting the geometry field\n",
    "SMS_Circle = SMS_Circle.set_geometry('geometry')\n",
    "\n",
    "#Since cirlces are now polygons as they need to be, we can merge them back to the main polygon dataframe\n",
    "SMS_Polygons= pd.concat([SMS_Polygons, SMS_Circle])"
   ]
  },
  {
   "cell_type": "code",
   "execution_count": 14,
   "metadata": {},
   "outputs": [],
   "source": [
    "#convert to ESRI shapefiles\n",
    "#I point thse to a geodatabae file that I had already created\n",
    "#Future improvement: Add in driver for FileGDB. Requires some extra enviornmental work\n",
    "SMS_Points.to_file('C:/Users/mjeas/Desktop/J3/SMS_Points.shp', driver='ESRI Shapefile')\n",
    "SMS_Lines.to_file('C:/Users/mjeas/Desktop/J3/SMS_Lines.shp', driver='ESRI Shapefile')\n",
    "SMS_Polygons.to_file('C:/Users/mjeas/Desktop/J3/SMS_Polygons.shp', driver='ESRI Shapefile')"
   ]
  }
 ],
 "metadata": {
  "kernelspec": {
   "display_name": "geopandas",
   "language": "python",
   "name": "geopandas"
  },
  "language_info": {
   "codemirror_mode": {
    "name": "ipython",
    "version": 3
   },
   "file_extension": ".py",
   "mimetype": "text/x-python",
   "name": "python",
   "nbconvert_exporter": "python",
   "pygments_lexer": "ipython3",
   "version": "3.9.2"
  }
 },
 "nbformat": 4,
 "nbformat_minor": 4
}
